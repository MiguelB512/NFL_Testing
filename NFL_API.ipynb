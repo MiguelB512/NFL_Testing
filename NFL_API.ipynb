{
 "cells": [
  {
   "cell_type": "code",
   "execution_count": 23,
   "id": "9981fac4",
   "metadata": {},
   "outputs": [],
   "source": [
    "# Import the requests library.\n",
    "import requests\n",
    "\n",
    "# Import the API key.\n",
    "from config import API_KEY"
   ]
  },
  {
   "cell_type": "code",
   "execution_count": 24,
   "id": "7c89651d",
   "metadata": {},
   "outputs": [],
   "source": [
    "# Select Year\n",
    "year = \"2021REG\""
   ]
  },
  {
   "cell_type": "code",
   "execution_count": 25,
   "id": "48200809",
   "metadata": {},
   "outputs": [],
   "source": [
    "# Set URL\n",
    "year_url = \"https://api.sportsdata.io/v3/nfl/scores/json/TeamSeasonStats/\" + year + \"?key=\" + API_KEY"
   ]
  },
  {
   "cell_type": "code",
   "execution_count": 26,
   "id": "bb56e8e1",
   "metadata": {},
   "outputs": [
    {
     "data": {
      "text/plain": [
       "<Response [200]>"
      ]
     },
     "execution_count": 26,
     "metadata": {},
     "output_type": "execute_result"
    }
   ],
   "source": [
    "# Make requests\n",
    "# Make a 'Get' request for the city weather.\n",
    "year_stats = requests.get(year_url)\n",
    "year_stats"
   ]
  },
  {
   "cell_type": "code",
   "execution_count": null,
   "id": "ddb8118e",
   "metadata": {},
   "outputs": [],
   "source": []
  }
 ],
 "metadata": {
  "kernelspec": {
   "display_name": "Python 3 (ipykernel)",
   "language": "python",
   "name": "python3"
  },
  "language_info": {
   "codemirror_mode": {
    "name": "ipython",
    "version": 3
   },
   "file_extension": ".py",
   "mimetype": "text/x-python",
   "name": "python",
   "nbconvert_exporter": "python",
   "pygments_lexer": "ipython3",
   "version": "3.9.12"
  }
 },
 "nbformat": 4,
 "nbformat_minor": 5
}
